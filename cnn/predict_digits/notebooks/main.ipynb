{
 "cells": [
  {
   "cell_type": "code",
   "execution_count": 12,
   "metadata": {},
   "outputs": [],
   "source": [
    "from tensorflow.keras.datasets import mnist\n",
    "from tensorflow.keras.utils import to_categorical\n",
    "import tensorflow as tf\n",
    "import numpy as np\n",
    "\n",
    "\n",
    "#Cargar los datos de MNIST\n",
    "\n",
    "(X_entrenamiento, Y_entrenamiento), (X_pruebas, Y_pruebas) = mnist.load_data()"
   ]
  },
  {
   "cell_type": "code",
   "execution_count": 13,
   "metadata": {},
   "outputs": [
    {
     "data": {
      "text/plain": [
       "array([7, 2, 1, ..., 4, 5, 6], dtype=uint8)"
      ]
     },
     "execution_count": 13,
     "metadata": {},
     "output_type": "execute_result"
    }
   ],
   "source": [
    "X_entrenamiento\n",
    "Y_entrenamiento\n",
    "X_pruebas\n",
    "Y_pruebas"
   ]
  },
  {
   "cell_type": "markdown",
   "metadata": {},
   "source": [
    " Las imágenes en el dataset MNIST son de 28x28 píxeles. Para usarlas con una CNN en TensorFlow, necesitamos agregar una dimensión extra para el canal de color. \n",
    " \n",
    "**X_entrenamiento.shape[0]** es el número de imágenes en el conjunto de entrenamiento.\n",
    "Cada imagen se convierte a un tensor de forma **(28, 28, 1), donde 1 representa que es una imagen en escala de grises** (un solo canal de color)."
   ]
  },
  {
   "cell_type": "markdown",
   "metadata": {},
   "source": [
    "**One-hot encoding**: Convertimos las etiquetas (que originalmente son números del 0 al 9) en vectores binarios donde solo el índice correspondiente a la etiqueta será 1, y el resto 0. "
   ]
  },
  {
   "cell_type": "markdown",
   "metadata": {},
   "source": [
    "**astype('float32')** convierte los datos de tipo entero (0-255) a flotante para permitir el uso de decimales."
   ]
  },
  {
   "cell_type": "code",
   "execution_count": 14,
   "metadata": {},
   "outputs": [],
   "source": [
    "X_entrenamiento = X_entrenamiento.reshape(X_entrenamiento.shape[0], 28, 28, 1)\n",
    "X_pruebas = X_pruebas.reshape(X_pruebas.shape[0], 28, 28, 1)\n",
    "\n",
    "Y_entrenamiento = to_categorical(Y_entrenamiento)\n",
    "Y_pruebas = to_categorical(Y_pruebas)\n",
    "\n",
    "X_entrenamiento = X_entrenamiento.astype('float32') / 255\n",
    "X_pruebas = X_pruebas.astype('float32') / 255"
   ]
  },
  {
   "cell_type": "markdown",
   "metadata": {},
   "source": [
    "**rango_rotacion**: Las imágenes pueden ser rotadas hasta 30 grados en cualquier dirección.\n",
    "\n",
    "**mov_ancho**: 0.25. Permite mover la imagen horizontalmente hasta un 25% de su ancho.\n",
    "\n",
    "**mov_alto**: 0.25. Permite mover la imagen verticalmente hasta un 25% de su altura.\n",
    "\n",
    "**rango_acercamiento**: [0.5, 1.5]. Permite hacer zoom en la imagen, desde un 50% de su tamaño original hasta un 150%."
   ]
  },
  {
   "cell_type": "markdown",
   "metadata": {},
   "source": [
    "Usamos la clase **ImageDataGenerator** para variabilidad en las imágenes de entrenamiento."
   ]
  },
  {
   "cell_type": "code",
   "execution_count": 15,
   "metadata": {},
   "outputs": [],
   "source": [
    "from tensorflow.keras.preprocessing.image import ImageDataGenerator\n",
    "\n",
    "(rango_rotacion,mov_ancho, mov_alto, rango_acercamiento) =  (30, 0.25,0.25, [0.5,1.5])\n",
    "\n",
    "datagen = ImageDataGenerator(\n",
    "    rotation_range = rango_rotacion,\n",
    "    width_shift_range = mov_ancho,\n",
    "    height_shift_range = mov_alto,\n",
    "    zoom_range=rango_acercamiento,\n",
    ")\n",
    "\n",
    "datagen.fit(X_entrenamiento)"
   ]
  },
  {
   "cell_type": "markdown",
   "metadata": {},
   "source": [
    "### **Modelo**"
   ]
  },
  {
   "cell_type": "code",
   "execution_count": 19,
   "metadata": {},
   "outputs": [],
   "source": [
    "# Definición del modelo de CNN para clasificar dígitos de MNIST\n",
    "model = tf.keras.models.Sequential([\n",
    "    # Primera capa convolucional: 32 filtros de 3x3, ReLU, entrada de 28x28x1\n",
    "    tf.keras.layers.Conv2D(32, (3,3), activation='relu', input_shape=(28, 28, 1)),\n",
    "    # Reducción de dimensionalidad con pooling máximo\n",
    "    tf.keras.layers.MaxPooling2D(2, 2),\n",
    "\n",
    "    # Segunda capa convolucional: 64 filtros de 3x3, ReLU\n",
    "    tf.keras.layers.Conv2D(64, (3,3), activation='relu'),\n",
    "    # Otra reducción de dimensionalidad\n",
    "    tf.keras.layers.MaxPooling2D(2,2),\n",
    "\n",
    "    # Regularización para prevenir sobreajuste\n",
    "    tf.keras.layers.Dropout(0.5),\n",
    "    # Aplanar los datos 2D para la capa densa\n",
    "    tf.keras.layers.Flatten(),\n",
    "    # Capa densa intermedia con 100 neuronas y ReLU\n",
    "    tf.keras.layers.Dense(100, activation='relu'),\n",
    "    # Capa de salida: 10 neuronas (una por dígito), softmax para clasificación\n",
    "    tf.keras.layers.Dense(10, activation=\"softmax\")\n",
    "])\n",
    "\n",
    "# Compilación del modelo\n",
    "model.compile(\n",
    "    # Optimizador Adam para ajustar los pesos\n",
    "    optimizer='adam',\n",
    "    # Función de pérdida para clasificación multiclase con etiquetas one-hot\n",
    "    loss='categorical_crossentropy',\n",
    "    # Métrica de precisión para evaluar el rendimiento\n",
    "    metrics=['accuracy']\n",
    ")"
   ]
  },
  {
   "cell_type": "code",
   "execution_count": 20,
   "metadata": {},
   "outputs": [],
   "source": [
    "data_gen_entrenamiento = datagen.flow(X_entrenamiento, Y_entrenamiento, batch_size=32)"
   ]
  },
  {
   "cell_type": "code",
   "execution_count": 22,
   "metadata": {},
   "outputs": [
    {
     "name": "stdout",
     "output_type": "stream",
     "text": [
      "Entrenando modelo...\n",
      "Epoch 1/60\n",
      "\u001b[1m1875/1875\u001b[0m \u001b[32m━━━━━━━━━━━━━━━━━━━━\u001b[0m\u001b[37m\u001b[0m \u001b[1m96s\u001b[0m 50ms/step - accuracy: 0.4481 - loss: 1.5803 - val_accuracy: 0.9561 - val_loss: 0.1724\n",
      "Epoch 2/60\n",
      "\u001b[1m1875/1875\u001b[0m \u001b[32m━━━━━━━━━━━━━━━━━━━━\u001b[0m\u001b[37m\u001b[0m \u001b[1m130s\u001b[0m 69ms/step - accuracy: 0.7583 - loss: 0.7469 - val_accuracy: 0.9599 - val_loss: 0.1405\n",
      "Epoch 3/60\n",
      "\u001b[1m1875/1875\u001b[0m \u001b[32m━━━━━━━━━━━━━━━━━━━━\u001b[0m\u001b[37m\u001b[0m \u001b[1m125s\u001b[0m 66ms/step - accuracy: 0.8014 - loss: 0.6112 - val_accuracy: 0.9722 - val_loss: 0.0928\n",
      "Epoch 4/60\n",
      "\u001b[1m1875/1875\u001b[0m \u001b[32m━━━━━━━━━━━━━━━━━━━━\u001b[0m\u001b[37m\u001b[0m \u001b[1m155s\u001b[0m 82ms/step - accuracy: 0.8237 - loss: 0.5451 - val_accuracy: 0.9774 - val_loss: 0.0820\n",
      "Epoch 5/60\n",
      "\u001b[1m1875/1875\u001b[0m \u001b[32m━━━━━━━━━━━━━━━━━━━━\u001b[0m\u001b[37m\u001b[0m \u001b[1m125s\u001b[0m 67ms/step - accuracy: 0.8382 - loss: 0.5012 - val_accuracy: 0.9742 - val_loss: 0.0888\n",
      "Epoch 6/60\n",
      "\u001b[1m1875/1875\u001b[0m \u001b[32m━━━━━━━━━━━━━━━━━━━━\u001b[0m\u001b[37m\u001b[0m \u001b[1m128s\u001b[0m 68ms/step - accuracy: 0.8445 - loss: 0.4769 - val_accuracy: 0.9691 - val_loss: 0.1003\n",
      "Epoch 7/60\n",
      "\u001b[1m1875/1875\u001b[0m \u001b[32m━━━━━━━━━━━━━━━━━━━━\u001b[0m\u001b[37m\u001b[0m \u001b[1m127s\u001b[0m 68ms/step - accuracy: 0.8529 - loss: 0.4527 - val_accuracy: 0.9749 - val_loss: 0.0773\n",
      "Epoch 8/60\n",
      "\u001b[1m1875/1875\u001b[0m \u001b[32m━━━━━━━━━━━━━━━━━━━━\u001b[0m\u001b[37m\u001b[0m \u001b[1m128s\u001b[0m 68ms/step - accuracy: 0.8612 - loss: 0.4313 - val_accuracy: 0.9736 - val_loss: 0.0843\n",
      "Epoch 9/60\n",
      "\u001b[1m1875/1875\u001b[0m \u001b[32m━━━━━━━━━━━━━━━━━━━━\u001b[0m\u001b[37m\u001b[0m \u001b[1m128s\u001b[0m 68ms/step - accuracy: 0.8615 - loss: 0.4272 - val_accuracy: 0.9826 - val_loss: 0.0534\n",
      "Epoch 10/60\n",
      "\u001b[1m1875/1875\u001b[0m \u001b[32m━━━━━━━━━━━━━━━━━━━━\u001b[0m\u001b[37m\u001b[0m \u001b[1m131s\u001b[0m 70ms/step - accuracy: 0.8692 - loss: 0.4045 - val_accuracy: 0.9797 - val_loss: 0.0605\n",
      "Epoch 11/60\n",
      "\u001b[1m1875/1875\u001b[0m \u001b[32m━━━━━━━━━━━━━━━━━━━━\u001b[0m\u001b[37m\u001b[0m \u001b[1m135s\u001b[0m 72ms/step - accuracy: 0.8693 - loss: 0.4053 - val_accuracy: 0.9753 - val_loss: 0.0793\n",
      "Epoch 12/60\n",
      "\u001b[1m1875/1875\u001b[0m \u001b[32m━━━━━━━━━━━━━━━━━━━━\u001b[0m\u001b[37m\u001b[0m \u001b[1m137s\u001b[0m 73ms/step - accuracy: 0.8751 - loss: 0.3881 - val_accuracy: 0.9747 - val_loss: 0.0822\n",
      "Epoch 13/60\n",
      "\u001b[1m1875/1875\u001b[0m \u001b[32m━━━━━━━━━━━━━━━━━━━━\u001b[0m\u001b[37m\u001b[0m \u001b[1m131s\u001b[0m 70ms/step - accuracy: 0.8765 - loss: 0.3829 - val_accuracy: 0.9819 - val_loss: 0.0563\n",
      "Epoch 14/60\n",
      "\u001b[1m1875/1875\u001b[0m \u001b[32m━━━━━━━━━━━━━━━━━━━━\u001b[0m\u001b[37m\u001b[0m \u001b[1m125s\u001b[0m 67ms/step - accuracy: 0.8785 - loss: 0.3741 - val_accuracy: 0.9801 - val_loss: 0.0579\n",
      "Epoch 15/60\n",
      "\u001b[1m1875/1875\u001b[0m \u001b[32m━━━━━━━━━━━━━━━━━━━━\u001b[0m\u001b[37m\u001b[0m \u001b[1m126s\u001b[0m 67ms/step - accuracy: 0.8813 - loss: 0.3634 - val_accuracy: 0.9803 - val_loss: 0.0597\n",
      "Epoch 16/60\n",
      "\u001b[1m1875/1875\u001b[0m \u001b[32m━━━━━━━━━━━━━━━━━━━━\u001b[0m\u001b[37m\u001b[0m \u001b[1m135s\u001b[0m 72ms/step - accuracy: 0.8809 - loss: 0.3658 - val_accuracy: 0.9799 - val_loss: 0.0638\n",
      "Epoch 17/60\n",
      "\u001b[1m1875/1875\u001b[0m \u001b[32m━━━━━━━━━━━━━━━━━━━━\u001b[0m\u001b[37m\u001b[0m \u001b[1m135s\u001b[0m 72ms/step - accuracy: 0.8829 - loss: 0.3574 - val_accuracy: 0.9821 - val_loss: 0.0554\n",
      "Epoch 18/60\n",
      "\u001b[1m1875/1875\u001b[0m \u001b[32m━━━━━━━━━━━━━━━━━━━━\u001b[0m\u001b[37m\u001b[0m \u001b[1m143s\u001b[0m 76ms/step - accuracy: 0.8859 - loss: 0.3556 - val_accuracy: 0.9791 - val_loss: 0.0650\n",
      "Epoch 19/60\n",
      "\u001b[1m1875/1875\u001b[0m \u001b[32m━━━━━━━━━━━━━━━━━━━━\u001b[0m\u001b[37m\u001b[0m \u001b[1m148s\u001b[0m 79ms/step - accuracy: 0.8892 - loss: 0.3483 - val_accuracy: 0.9806 - val_loss: 0.0608\n",
      "Epoch 20/60\n",
      "\u001b[1m1875/1875\u001b[0m \u001b[32m━━━━━━━━━━━━━━━━━━━━\u001b[0m\u001b[37m\u001b[0m \u001b[1m139s\u001b[0m 74ms/step - accuracy: 0.8834 - loss: 0.3530 - val_accuracy: 0.9775 - val_loss: 0.0703\n",
      "Epoch 21/60\n",
      "\u001b[1m1875/1875\u001b[0m \u001b[32m━━━━━━━━━━━━━━━━━━━━\u001b[0m\u001b[37m\u001b[0m \u001b[1m181s\u001b[0m 97ms/step - accuracy: 0.8917 - loss: 0.3340 - val_accuracy: 0.9834 - val_loss: 0.0515\n",
      "Epoch 22/60\n",
      "\u001b[1m1875/1875\u001b[0m \u001b[32m━━━━━━━━━━━━━━━━━━━━\u001b[0m\u001b[37m\u001b[0m \u001b[1m185s\u001b[0m 99ms/step - accuracy: 0.8888 - loss: 0.3434 - val_accuracy: 0.9799 - val_loss: 0.0645\n",
      "Epoch 23/60\n",
      "\u001b[1m1875/1875\u001b[0m \u001b[32m━━━━━━━━━━━━━━━━━━━━\u001b[0m\u001b[37m\u001b[0m \u001b[1m188s\u001b[0m 100ms/step - accuracy: 0.8927 - loss: 0.3341 - val_accuracy: 0.9831 - val_loss: 0.0540\n",
      "Epoch 24/60\n",
      "\u001b[1m1875/1875\u001b[0m \u001b[32m━━━━━━━━━━━━━━━━━━━━\u001b[0m\u001b[37m\u001b[0m \u001b[1m145s\u001b[0m 77ms/step - accuracy: 0.8942 - loss: 0.3330 - val_accuracy: 0.9817 - val_loss: 0.0606\n",
      "Epoch 25/60\n",
      "\u001b[1m1875/1875\u001b[0m \u001b[32m━━━━━━━━━━━━━━━━━━━━\u001b[0m\u001b[37m\u001b[0m \u001b[1m127s\u001b[0m 67ms/step - accuracy: 0.8926 - loss: 0.3291 - val_accuracy: 0.9847 - val_loss: 0.0483\n",
      "Epoch 26/60\n",
      "\u001b[1m1875/1875\u001b[0m \u001b[32m━━━━━━━━━━━━━━━━━━━━\u001b[0m\u001b[37m\u001b[0m \u001b[1m174s\u001b[0m 93ms/step - accuracy: 0.8940 - loss: 0.3274 - val_accuracy: 0.9778 - val_loss: 0.0619\n",
      "Epoch 27/60\n",
      "\u001b[1m1875/1875\u001b[0m \u001b[32m━━━━━━━━━━━━━━━━━━━━\u001b[0m\u001b[37m\u001b[0m \u001b[1m151s\u001b[0m 81ms/step - accuracy: 0.8949 - loss: 0.3238 - val_accuracy: 0.9697 - val_loss: 0.0956\n",
      "Epoch 28/60\n",
      "\u001b[1m1875/1875\u001b[0m \u001b[32m━━━━━━━━━━━━━━━━━━━━\u001b[0m\u001b[37m\u001b[0m \u001b[1m153s\u001b[0m 82ms/step - accuracy: 0.8945 - loss: 0.3197 - val_accuracy: 0.9818 - val_loss: 0.0557\n",
      "Epoch 29/60\n",
      "\u001b[1m1875/1875\u001b[0m \u001b[32m━━━━━━━━━━━━━━━━━━━━\u001b[0m\u001b[37m\u001b[0m \u001b[1m125s\u001b[0m 66ms/step - accuracy: 0.8979 - loss: 0.3154 - val_accuracy: 0.9785 - val_loss: 0.0681\n",
      "Epoch 30/60\n",
      "\u001b[1m1875/1875\u001b[0m \u001b[32m━━━━━━━━━━━━━━━━━━━━\u001b[0m\u001b[37m\u001b[0m \u001b[1m144s\u001b[0m 77ms/step - accuracy: 0.8977 - loss: 0.3169 - val_accuracy: 0.9835 - val_loss: 0.0516\n",
      "Epoch 31/60\n",
      "\u001b[1m1875/1875\u001b[0m \u001b[32m━━━━━━━━━━━━━━━━━━━━\u001b[0m\u001b[37m\u001b[0m \u001b[1m137s\u001b[0m 73ms/step - accuracy: 0.8999 - loss: 0.3116 - val_accuracy: 0.9860 - val_loss: 0.0451\n",
      "Epoch 32/60\n",
      "\u001b[1m1875/1875\u001b[0m \u001b[32m━━━━━━━━━━━━━━━━━━━━\u001b[0m\u001b[37m\u001b[0m \u001b[1m146s\u001b[0m 78ms/step - accuracy: 0.8990 - loss: 0.3129 - val_accuracy: 0.9844 - val_loss: 0.0496\n",
      "Epoch 33/60\n",
      "\u001b[1m1875/1875\u001b[0m \u001b[32m━━━━━━━━━━━━━━━━━━━━\u001b[0m\u001b[37m\u001b[0m \u001b[1m165s\u001b[0m 88ms/step - accuracy: 0.9014 - loss: 0.3063 - val_accuracy: 0.9775 - val_loss: 0.0718\n",
      "Epoch 34/60\n",
      "\u001b[1m1875/1875\u001b[0m \u001b[32m━━━━━━━━━━━━━━━━━━━━\u001b[0m\u001b[37m\u001b[0m \u001b[1m143s\u001b[0m 76ms/step - accuracy: 0.8975 - loss: 0.3127 - val_accuracy: 0.9830 - val_loss: 0.0538\n",
      "Epoch 35/60\n",
      "\u001b[1m1875/1875\u001b[0m \u001b[32m━━━━━━━━━━━━━━━━━━━━\u001b[0m\u001b[37m\u001b[0m \u001b[1m136s\u001b[0m 73ms/step - accuracy: 0.9001 - loss: 0.3116 - val_accuracy: 0.9800 - val_loss: 0.0625\n",
      "Epoch 36/60\n",
      "\u001b[1m1875/1875\u001b[0m \u001b[32m━━━━━━━━━━━━━━━━━━━━\u001b[0m\u001b[37m\u001b[0m \u001b[1m139s\u001b[0m 74ms/step - accuracy: 0.9008 - loss: 0.3067 - val_accuracy: 0.9846 - val_loss: 0.0503\n",
      "Epoch 37/60\n",
      "\u001b[1m1875/1875\u001b[0m \u001b[32m━━━━━━━━━━━━━━━━━━━━\u001b[0m\u001b[37m\u001b[0m \u001b[1m139s\u001b[0m 74ms/step - accuracy: 0.9032 - loss: 0.3096 - val_accuracy: 0.9800 - val_loss: 0.0635\n",
      "Epoch 38/60\n",
      "\u001b[1m1875/1875\u001b[0m \u001b[32m━━━━━━━━━━━━━━━━━━━━\u001b[0m\u001b[37m\u001b[0m \u001b[1m135s\u001b[0m 72ms/step - accuracy: 0.9028 - loss: 0.3043 - val_accuracy: 0.9825 - val_loss: 0.0540\n",
      "Epoch 39/60\n",
      "\u001b[1m1875/1875\u001b[0m \u001b[32m━━━━━━━━━━━━━━━━━━━━\u001b[0m\u001b[37m\u001b[0m \u001b[1m134s\u001b[0m 72ms/step - accuracy: 0.9036 - loss: 0.2964 - val_accuracy: 0.9845 - val_loss: 0.0506\n",
      "Epoch 40/60\n",
      "\u001b[1m1875/1875\u001b[0m \u001b[32m━━━━━━━━━━━━━━━━━━━━\u001b[0m\u001b[37m\u001b[0m \u001b[1m133s\u001b[0m 71ms/step - accuracy: 0.9024 - loss: 0.3037 - val_accuracy: 0.9786 - val_loss: 0.0703\n",
      "Epoch 41/60\n",
      "\u001b[1m1875/1875\u001b[0m \u001b[32m━━━━━━━━━━━━━━━━━━━━\u001b[0m\u001b[37m\u001b[0m \u001b[1m134s\u001b[0m 72ms/step - accuracy: 0.9041 - loss: 0.2991 - val_accuracy: 0.9806 - val_loss: 0.0607\n",
      "Epoch 42/60\n",
      "\u001b[1m1875/1875\u001b[0m \u001b[32m━━━━━━━━━━━━━━━━━━━━\u001b[0m\u001b[37m\u001b[0m \u001b[1m142s\u001b[0m 76ms/step - accuracy: 0.9038 - loss: 0.2999 - val_accuracy: 0.9753 - val_loss: 0.0803\n",
      "Epoch 43/60\n",
      "\u001b[1m1875/1875\u001b[0m \u001b[32m━━━━━━━━━━━━━━━━━━━━\u001b[0m\u001b[37m\u001b[0m \u001b[1m134s\u001b[0m 72ms/step - accuracy: 0.9037 - loss: 0.2997 - val_accuracy: 0.9835 - val_loss: 0.0516\n",
      "Epoch 44/60\n",
      "\u001b[1m1875/1875\u001b[0m \u001b[32m━━━━━━━━━━━━━━━━━━━━\u001b[0m\u001b[37m\u001b[0m \u001b[1m135s\u001b[0m 72ms/step - accuracy: 0.9029 - loss: 0.2986 - val_accuracy: 0.9853 - val_loss: 0.0470\n",
      "Epoch 45/60\n",
      "\u001b[1m1875/1875\u001b[0m \u001b[32m━━━━━━━━━━━━━━━━━━━━\u001b[0m\u001b[37m\u001b[0m \u001b[1m137s\u001b[0m 73ms/step - accuracy: 0.9050 - loss: 0.2943 - val_accuracy: 0.9837 - val_loss: 0.0523\n",
      "Epoch 46/60\n",
      "\u001b[1m1875/1875\u001b[0m \u001b[32m━━━━━━━━━━━━━━━━━━━━\u001b[0m\u001b[37m\u001b[0m \u001b[1m152s\u001b[0m 81ms/step - accuracy: 0.9049 - loss: 0.2971 - val_accuracy: 0.9780 - val_loss: 0.0706\n",
      "Epoch 47/60\n",
      "\u001b[1m1875/1875\u001b[0m \u001b[32m━━━━━━━━━━━━━━━━━━━━\u001b[0m\u001b[37m\u001b[0m \u001b[1m104s\u001b[0m 56ms/step - accuracy: 0.9025 - loss: 0.2969 - val_accuracy: 0.9816 - val_loss: 0.0604\n",
      "Epoch 48/60\n",
      "\u001b[1m1875/1875\u001b[0m \u001b[32m━━━━━━━━━━━━━━━━━━━━\u001b[0m\u001b[37m\u001b[0m \u001b[1m77s\u001b[0m 41ms/step - accuracy: 0.9068 - loss: 0.2948 - val_accuracy: 0.9820 - val_loss: 0.0569\n",
      "Epoch 49/60\n",
      "\u001b[1m1875/1875\u001b[0m \u001b[32m━━━━━━━━━━━━━━━━━━━━\u001b[0m\u001b[37m\u001b[0m \u001b[1m75s\u001b[0m 40ms/step - accuracy: 0.9034 - loss: 0.3033 - val_accuracy: 0.9835 - val_loss: 0.0543\n",
      "Epoch 50/60\n",
      "\u001b[1m1875/1875\u001b[0m \u001b[32m━━━━━━━━━━━━━━━━━━━━\u001b[0m\u001b[37m\u001b[0m \u001b[1m74s\u001b[0m 40ms/step - accuracy: 0.9074 - loss: 0.2863 - val_accuracy: 0.9825 - val_loss: 0.0563\n",
      "Epoch 51/60\n",
      "\u001b[1m1875/1875\u001b[0m \u001b[32m━━━━━━━━━━━━━━━━━━━━\u001b[0m\u001b[37m\u001b[0m \u001b[1m80s\u001b[0m 43ms/step - accuracy: 0.9054 - loss: 0.2920 - val_accuracy: 0.9799 - val_loss: 0.0655\n",
      "Epoch 52/60\n",
      "\u001b[1m1875/1875\u001b[0m \u001b[32m━━━━━━━━━━━━━━━━━━━━\u001b[0m\u001b[37m\u001b[0m \u001b[1m76s\u001b[0m 40ms/step - accuracy: 0.9041 - loss: 0.3018 - val_accuracy: 0.9811 - val_loss: 0.0607\n",
      "Epoch 53/60\n",
      "\u001b[1m1875/1875\u001b[0m \u001b[32m━━━━━━━━━━━━━━━━━━━━\u001b[0m\u001b[37m\u001b[0m \u001b[1m75s\u001b[0m 40ms/step - accuracy: 0.9078 - loss: 0.2867 - val_accuracy: 0.9835 - val_loss: 0.0523\n",
      "Epoch 54/60\n",
      "\u001b[1m1875/1875\u001b[0m \u001b[32m━━━━━━━━━━━━━━━━━━━━\u001b[0m\u001b[37m\u001b[0m \u001b[1m77s\u001b[0m 41ms/step - accuracy: 0.9055 - loss: 0.2961 - val_accuracy: 0.9852 - val_loss: 0.0521\n",
      "Epoch 55/60\n",
      "\u001b[1m1875/1875\u001b[0m \u001b[32m━━━━━━━━━━━━━━━━━━━━\u001b[0m\u001b[37m\u001b[0m \u001b[1m76s\u001b[0m 40ms/step - accuracy: 0.9070 - loss: 0.2858 - val_accuracy: 0.9818 - val_loss: 0.0549\n",
      "Epoch 56/60\n",
      "\u001b[1m1875/1875\u001b[0m \u001b[32m━━━━━━━━━━━━━━━━━━━━\u001b[0m\u001b[37m\u001b[0m \u001b[1m75s\u001b[0m 40ms/step - accuracy: 0.9056 - loss: 0.2895 - val_accuracy: 0.9808 - val_loss: 0.0564\n",
      "Epoch 57/60\n",
      "\u001b[1m1875/1875\u001b[0m \u001b[32m━━━━━━━━━━━━━━━━━━━━\u001b[0m\u001b[37m\u001b[0m \u001b[1m75s\u001b[0m 40ms/step - accuracy: 0.9084 - loss: 0.2869 - val_accuracy: 0.9813 - val_loss: 0.0628\n",
      "Epoch 58/60\n",
      "\u001b[1m1875/1875\u001b[0m \u001b[32m━━━━━━━━━━━━━━━━━━━━\u001b[0m\u001b[37m\u001b[0m \u001b[1m75s\u001b[0m 40ms/step - accuracy: 0.9097 - loss: 0.2871 - val_accuracy: 0.9806 - val_loss: 0.0597\n",
      "Epoch 59/60\n",
      "\u001b[1m1875/1875\u001b[0m \u001b[32m━━━━━━━━━━━━━━━━━━━━\u001b[0m\u001b[37m\u001b[0m \u001b[1m75s\u001b[0m 40ms/step - accuracy: 0.9077 - loss: 0.2852 - val_accuracy: 0.9852 - val_loss: 0.0462\n",
      "Epoch 60/60\n",
      "\u001b[1m1875/1875\u001b[0m \u001b[32m━━━━━━━━━━━━━━━━━━━━\u001b[0m\u001b[37m\u001b[0m \u001b[1m75s\u001b[0m 40ms/step - accuracy: 0.9084 - loss: 0.2840 - val_accuracy: 0.9839 - val_loss: 0.0518\n",
      "Modelo entrenado!\n"
     ]
    }
   ],
   "source": [
    "TAMANO_LOTE = 32\n",
    "\n",
    "print(\"Entrenando modelo...\");\n",
    "epocas=60\n",
    "history = model.fit(\n",
    "    data_gen_entrenamiento,\n",
    "    epochs=epocas,\n",
    "    batch_size=TAMANO_LOTE,\n",
    "    validation_data=(X_pruebas, Y_pruebas),\n",
    "    steps_per_epoch=int(np.ceil(60000 / float(TAMANO_LOTE))),\n",
    "    validation_steps=int(np.ceil(10000 / float(TAMANO_LOTE)))\n",
    ")\n",
    "\n",
    "print(\"Modelo entrenado!\");"
   ]
  },
  {
   "cell_type": "code",
   "execution_count": 23,
   "metadata": {},
   "outputs": [
    {
     "name": "stderr",
     "output_type": "stream",
     "text": [
      "WARNING:absl:You are saving your model as an HDF5 file via `model.save()` or `keras.saving.save_model(model)`. This file format is considered legacy. We recommend using instead the native Keras format, e.g. `model.save('my_model.keras')` or `keras.saving.save_model(model, 'my_model.keras')`. \n"
     ]
    }
   ],
   "source": [
    "model.save('models/numeros_conv_ad_do.h5')"
   ]
  }
 ],
 "metadata": {
  "kernelspec": {
   "display_name": "Python 3",
   "language": "python",
   "name": "python3"
  },
  "language_info": {
   "codemirror_mode": {
    "name": "ipython",
    "version": 3
   },
   "file_extension": ".py",
   "mimetype": "text/x-python",
   "name": "python",
   "nbconvert_exporter": "python",
   "pygments_lexer": "ipython3",
   "version": "3.12.2"
  }
 },
 "nbformat": 4,
 "nbformat_minor": 2
}
