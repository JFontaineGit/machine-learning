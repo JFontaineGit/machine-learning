{
 "cells": [
  {
   "cell_type": "code",
   "execution_count": 483,
   "metadata": {},
   "outputs": [],
   "source": [
    "from sklearn.model_selection import train_test_split\n",
    "from sklearn.datasets import load_iris\n",
    "import matplotlib.pyplot as plt\n",
    "import pandas as pd\n",
    "import numpy as np\n"
   ]
  },
  {
   "cell_type": "code",
   "execution_count": 484,
   "metadata": {},
   "outputs": [],
   "source": [
    "inputs = np.array([\n",
    "    [0,0],\n",
    "    [0,1],\n",
    "    [1,0],\n",
    "    [1,1]\n",
    "])\n",
    "\n",
    "# Compuerta lógica AND, OR & XOR\n",
    "labels_and = np.array([0,0,0,1])\n",
    "labels_or = np.array([0,1,1,1])\n",
    "labels_xor = np.array([0,1,1,0])"
   ]
  },
  {
   "cell_type": "code",
   "execution_count": 485,
   "metadata": {},
   "outputs": [],
   "source": [
    "# Visualización de los datos\n",
    "def comp_log(inputs,labels):\n",
    "    plt.scatter(inputs[:,0],inputs[:,1], c=labels, cmap=\"cool\", marker=\"o\", label=\"Datos de entrada\", s=125)\n",
    "    plt.xlabel(\"x1\")\n",
    "    plt.ylabel(\"x2\")\n",
    "    plt.grid(True)\n"
   ]
  },
  {
   "cell_type": "code",
   "execution_count": 486,
   "metadata": {},
   "outputs": [],
   "source": [
    "class Perceptron():\n",
    "    def __init__(self,learning_rate,epochs):\n",
    "        self.learning_rate = learning_rate # Tasa de aprendizaje\n",
    "        self.epochs = epochs\n",
    "        self.weights = None\n",
    "        self.bias = None\n",
    "        \n",
    "    \n",
    "    def activation(self,z):\n",
    "        return np.where(z > 0, 1, 0)\n",
    "\n",
    "    def predict(self,input, weights, bias):\n",
    "        z = np.dot(input, self.weights) + self.bias\n",
    "        return self.activation(z)\n",
    "\n",
    "    def accuracy_score(self,y_true, y_pred):\n",
    "        correct_predictions = sum(y_t == y_p for y_t, y_p in zip(y_true, y_pred))\n",
    "        total_predictions = len(y_true)\n",
    "        return correct_predictions / total_predictions\n",
    " \n",
    "    def train(self,inputs,labels):\n",
    "        # Inicializar aleatoriamente los pesos y bias \n",
    "        self.weights = np.random.rand(2)\n",
    "        self.bias = np.random.rand()\n",
    "    \n",
    "        for epoch in range(self.epochs):\n",
    "            print(f\"Epoch {epoch}\")\n",
    "            total_error = 0\n",
    "            for input, label in zip(inputs,labels):\n",
    "                print(f\"Input: {input}, Label: {label}\", end=\" \")\n",
    "                z = np.dot(input, self.weights) + self.bias\n",
    "                y_pred = self.activation(z)\n",
    "            \n",
    "                # Error\n",
    "                error = label - y_pred\n",
    "                total_error += abs(error)\n",
    "                print(f\"Error: {error}\")\n",
    "            \n",
    "                # Actualización de weights y bias\n",
    "                delta_w = self.learning_rate * error * input\n",
    "                self.weights = self.weights + delta_w\n",
    "            \n",
    "                delta_bias = self.learning_rate * error \n",
    "                self.bias = self.bias + delta_bias\n",
    "        \n",
    "            average_error = total_error / len(inputs)\n",
    "            print(f\"Average error: {average_error}\")\n",
    "            if average_error == 0: \n",
    "                break\n",
    "    \n",
    "        return self.weights, self.bias \n",
    "            "
   ]
  },
  {
   "cell_type": "code",
   "execution_count": 487,
   "metadata": {},
   "outputs": [],
   "source": [
    "# Instancia\n",
    "Perceptron = Perceptron(0.9,20)"
   ]
  },
  {
   "cell_type": "code",
   "execution_count": 488,
   "metadata": {},
   "outputs": [
    {
     "name": "stdout",
     "output_type": "stream",
     "text": [
      "Epoch 0\n",
      "Input: [0 0], Label: 0 Error: -1\n",
      "Input: [0 1], Label: 0 Error: 0\n",
      "Input: [1 0], Label: 0 Error: 0\n",
      "Input: [1 1], Label: 1 Error: 1\n",
      "Average error: 0.5\n",
      "Epoch 1\n",
      "Input: [0 0], Label: 0 Error: -1\n",
      "Input: [0 1], Label: 0 Error: -1\n",
      "Input: [1 0], Label: 0 Error: 0\n",
      "Input: [1 1], Label: 1 Error: 1\n",
      "Average error: 0.75\n",
      "Epoch 2\n",
      "Input: [0 0], Label: 0 Error: 0\n",
      "Input: [0 1], Label: 0 Error: -1\n",
      "Input: [1 0], Label: 0 Error: -1\n",
      "Input: [1 1], Label: 1 Error: 1\n",
      "Average error: 0.75\n",
      "Epoch 3\n",
      "Input: [0 0], Label: 0 Error: 0\n",
      "Input: [0 1], Label: 0 Error: 0\n",
      "Input: [1 0], Label: 0 Error: -1\n",
      "Input: [1 1], Label: 1 Error: 1\n",
      "Average error: 0.5\n",
      "Epoch 4\n",
      "Input: [0 0], Label: 0 Error: 0\n",
      "Input: [0 1], Label: 0 Error: -1\n",
      "Input: [1 0], Label: 0 Error: 0\n",
      "Input: [1 1], Label: 1 Error: 0\n",
      "Average error: 0.25\n",
      "Epoch 5\n",
      "Input: [0 0], Label: 0 Error: 0\n",
      "Input: [0 1], Label: 0 Error: 0\n",
      "Input: [1 0], Label: 0 Error: 0\n",
      "Input: [1 1], Label: 1 Error: 0\n",
      "Average error: 0.0\n",
      "Pesos ajustados: [2.10843201 1.00772983]\n",
      "Bias ajustado: -2.2286627067374574\n"
     ]
    }
   ],
   "source": [
    "w_and, b_and = Perceptron.train(inputs, labels_and)\n",
    "print(f\"Pesos ajustados: {w_and}\")\n",
    "print(f\"Bias ajustado: {b_and}\")"
   ]
  },
  {
   "cell_type": "code",
   "execution_count": 489,
   "metadata": {},
   "outputs": [
    {
     "data": {
      "text/plain": [
       "array(0)"
      ]
     },
     "execution_count": 489,
     "metadata": {},
     "output_type": "execute_result"
    }
   ],
   "source": [
    "Perceptron.predict([1,0], w_and, b_and)"
   ]
  },
  {
   "cell_type": "code",
   "execution_count": 490,
   "metadata": {},
   "outputs": [
    {
     "name": "stdout",
     "output_type": "stream",
     "text": [
      "1.0077298272811288\n"
     ]
    }
   ],
   "source": [
    "print(w_and[1])"
   ]
  },
  {
   "cell_type": "code",
   "execution_count": 491,
   "metadata": {},
   "outputs": [
    {
     "data": {
      "image/png": "[encoded data removed]",
      "text/plain": [
       "<Figure size 640x480 with 1 Axes>"
      ]
     },
     "metadata": {},
     "output_type": "display_data"
    }
   ],
   "source": [
    "# Visualización con separación lineal\n",
    "comp_log(inputs,labels_and)\n",
    "plt.title(\"Compuerta lógica AND\")\n",
    "x_values = np.linspace(0,1.1,100)\n",
    "y_values = (-w_and[0] / w_and[1]) * x_values - b_and / w_and[1]\n",
    "\n",
    "plt.plot(x_values, y_values, '-b', label='Separación lineal')\n",
    "plt.legend()\n",
    "plt.show()\n",
    "\n"
   ]
  },
  {
   "cell_type": "code",
   "execution_count": 492,
   "metadata": {},
   "outputs": [],
   "source": [
    "Perceptron.learning_rate = 0.9\n",
    "Perceptron.epochs = 8"
   ]
  },
  {
   "cell_type": "code",
   "execution_count": 493,
   "metadata": {},
   "outputs": [
    {
     "name": "stdout",
     "output_type": "stream",
     "text": [
      "Epoch 0\n",
      "Input: [0 0], Label: 0 Error: -1\n",
      "Input: [0 1], Label: 1 Error: 0\n",
      "Input: [1 0], Label: 1 Error: 0\n",
      "Input: [1 1], Label: 1 Error: 0\n",
      "Average error: 0.25\n",
      "Epoch 1\n",
      "Input: [0 0], Label: 0 Error: 0\n",
      "Input: [0 1], Label: 1 Error: 0\n",
      "Input: [1 0], Label: 1 Error: 0\n",
      "Input: [1 1], Label: 1 Error: 0\n",
      "Average error: 0.0\n",
      "Pesos ajustados: [0.96311981 0.75174136]\n",
      "Bias ajustado: -0.5721274462896632\n"
     ]
    }
   ],
   "source": [
    "w_or, b_or = Perceptron.train(inputs, labels_or)\n",
    "print(f\"Pesos ajustados: {w_or}\")\n",
    "print(f\"Bias ajustado: {b_or}\")"
   ]
  },
  {
   "cell_type": "code",
   "execution_count": 494,
   "metadata": {},
   "outputs": [
    {
     "data": {
      "text/plain": [
       "array(1)"
      ]
     },
     "execution_count": 494,
     "metadata": {},
     "output_type": "execute_result"
    }
   ],
   "source": [
    "Perceptron.predict([1,0], w_or, b_or)"
   ]
  },
  {
   "cell_type": "code",
   "execution_count": 495,
   "metadata": {},
   "outputs": [
    {
     "data": {
      "image/png": "[encoded data removed]",
      "text/plain": [
       "<Figure size 640x480 with 1 Axes>"
      ]
     },
     "metadata": {},
     "output_type": "display_data"
    }
   ],
   "source": [
    "# Compuerta lógica OR\n",
    "\n",
    "comp_log(inputs,labels_or)\n",
    "plt.title(\"Compuerta lógica OR\")\n",
    "x_values = np.linspace(0,1.1,100)\n",
    "y_values = (-w_or[0] / w_or[1]) * x_values - b_or / w_or[1] \n",
    "plt.plot(x_values, y_values, '-b', label='Separación lineal')\n",
    "plt.legend()\n",
    "plt.show()\n"
   ]
  },
  {
   "cell_type": "markdown",
   "metadata": {},
   "source": [
    "Siempre habrá error"
   ]
  },
  {
   "cell_type": "code",
   "execution_count": 496,
   "metadata": {},
   "outputs": [
    {
     "name": "stdout",
     "output_type": "stream",
     "text": [
      "Epoch 0\n",
      "Input: [0 0], Label: 0 Error: -1\n",
      "Input: [0 1], Label: 1 Error: 1\n",
      "Input: [1 0], Label: 1 Error: 0\n",
      "Input: [1 1], Label: 0 Error: -1\n",
      "Average error: 0.75\n",
      "Epoch 1\n",
      "Input: [0 0], Label: 0 Error: 0\n",
      "Input: [0 1], Label: 1 Error: 1\n",
      "Input: [1 0], Label: 1 Error: 0\n",
      "Input: [1 1], Label: 0 Error: -1\n",
      "Average error: 0.5\n",
      "Epoch 2\n",
      "Input: [0 0], Label: 0 Error: 0\n",
      "Input: [0 1], Label: 1 Error: 1\n",
      "Input: [1 0], Label: 1 Error: 1\n",
      "Input: [1 1], Label: 0 Error: -1\n",
      "Average error: 0.75\n",
      "Epoch 3\n",
      "Input: [0 0], Label: 0 Error: -1\n",
      "Input: [0 1], Label: 1 Error: 1\n",
      "Input: [1 0], Label: 1 Error: 1\n",
      "Input: [1 1], Label: 0 Error: -1\n",
      "Average error: 1.0\n",
      "Epoch 4\n",
      "Input: [0 0], Label: 0 Error: -1\n",
      "Input: [0 1], Label: 1 Error: 1\n",
      "Input: [1 0], Label: 1 Error: 1\n",
      "Input: [1 1], Label: 0 Error: -1\n",
      "Average error: 1.0\n",
      "Epoch 5\n",
      "Input: [0 0], Label: 0 Error: -1\n",
      "Input: [0 1], Label: 1 Error: 1\n",
      "Input: [1 0], Label: 1 Error: 1\n",
      "Input: [1 1], Label: 0 Error: -1\n",
      "Average error: 1.0\n",
      "Epoch 6\n",
      "Input: [0 0], Label: 0 Error: -1\n",
      "Input: [0 1], Label: 1 Error: 1\n",
      "Input: [1 0], Label: 1 Error: 1\n",
      "Input: [1 1], Label: 0 Error: -1\n",
      "Average error: 1.0\n",
      "Epoch 7\n",
      "Input: [0 0], Label: 0 Error: -1\n",
      "Input: [0 1], Label: 1 Error: 1\n",
      "Input: [1 0], Label: 1 Error: 1\n",
      "Input: [1 1], Label: 0 Error: -1\n",
      "Average error: 1.0\n",
      "Pesos ajustados: [-0.95997997  0.05350684]\n",
      "Bias ajustado: 0.475680613895059\n"
     ]
    }
   ],
   "source": [
    "w_xor, b_xor = Perceptron.train(inputs, labels_xor)\n",
    "print(f\"Pesos ajustados: {w_xor}\")\n",
    "print(f\"Bias ajustado: {b_xor}\")"
   ]
  },
  {
   "cell_type": "code",
   "execution_count": 497,
   "metadata": {},
   "outputs": [
    {
     "data": {
      "text/plain": [
       "array(0)"
      ]
     },
     "execution_count": 497,
     "metadata": {},
     "output_type": "execute_result"
    }
   ],
   "source": [
    "Perceptron.predict([1,0], w_xor, b_xor) # Respuesta no esperada"
   ]
  },
  {
   "cell_type": "code",
   "execution_count": 498,
   "metadata": {},
   "outputs": [
    {
     "data": {
      "image/png": "[encoded data removed]",
      "text/plain": [
       "<Figure size 640x480 with 1 Axes>"
      ]
     },
     "metadata": {},
     "output_type": "display_data"
    }
   ],
   "source": [
    "# Compuerta lógica OR (imposible de clasificar para el perceptron)\n",
    "\n",
    "comp_log(inputs,labels_xor)\n",
    "plt.title(\"Compuerta lógica XOR\")\n",
    "x_values = np.linspace(0,1.1,100)\n",
    "y_values = (-w_xor[0] / w_xor[1]) * x_values - b_xor / w_xor[1] \n",
    "plt.plot(x_values, y_values, '-b', label='Separación lineal')\n",
    "plt.legend()\n",
    "plt.show()"
   ]
  },
  {
   "cell_type": "code",
   "execution_count": 499,
   "metadata": {},
   "outputs": [
    {
     "data": {
      "text/plain": [
       "{'data': array([[5.1, 3.5, 1.4, 0.2],\n",
       "        [4.9, 3. , 1.4, 0.2],\n",
       "        [4.7, 3.2, 1.3, 0.2],\n",
       "        [4.6, 3.1, 1.5, 0.2],\n",
       "        [5. , 3.6, 1.4, 0.2],\n",
       "        [5.4, 3.9, 1.7, 0.4],\n",
       "        [4.6, 3.4, 1.4, 0.3],\n",
       "        [5. , 3.4, 1.5, 0.2],\n",
       "        [4.4, 2.9, 1.4, 0.2],\n",
       "        [4.9, 3.1, 1.5, 0.1],\n",
       "        [5.4, 3.7, 1.5, 0.2],\n",
       "        [4.8, 3.4, 1.6, 0.2],\n",
       "        [4.8, 3. , 1.4, 0.1],\n",
       "        [4.3, 3. , 1.1, 0.1],\n",
       "        [5.8, 4. , 1.2, 0.2],\n",
       "        [5.7, 4.4, 1.5, 0.4],\n",
       "        [5.4, 3.9, 1.3, 0.4],\n",
       "        [5.1, 3.5, 1.4, 0.3],\n",
       "        [5.7, 3.8, 1.7, 0.3],\n",
       "        [5.1, 3.8, 1.5, 0.3],\n",
       "        [5.4, 3.4, 1.7, 0.2],\n",
       "        [5.1, 3.7, 1.5, 0.4],\n",
       "        [4.6, 3.6, 1. , 0.2],\n",
       "        [5.1, 3.3, 1.7, 0.5],\n",
       "        [4.8, 3.4, 1.9, 0.2],\n",
       "        [5. , 3. , 1.6, 0.2],\n",
       "        [5. , 3.4, 1.6, 0.4],\n",
       "        [5.2, 3.5, 1.5, 0.2],\n",
       "        [5.2, 3.4, 1.4, 0.2],\n",
       "        [4.7, 3.2, 1.6, 0.2],\n",
       "        [4.8, 3.1, 1.6, 0.2],\n",
       "        [5.4, 3.4, 1.5, 0.4],\n",
       "        [5.2, 4.1, 1.5, 0.1],\n",
       "        [5.5, 4.2, 1.4, 0.2],\n",
       "        [4.9, 3.1, 1.5, 0.2],\n",
       "        [5. , 3.2, 1.2, 0.2],\n",
       "        [5.5, 3.5, 1.3, 0.2],\n",
       "        [4.9, 3.6, 1.4, 0.1],\n",
       "        [4.4, 3. , 1.3, 0.2],\n",
       "        [5.1, 3.4, 1.5, 0.2],\n",
       "        [5. , 3.5, 1.3, 0.3],\n",
       "        [4.5, 2.3, 1.3, 0.3],\n",
       "        [4.4, 3.2, 1.3, 0.2],\n",
       "        [5. , 3.5, 1.6, 0.6],\n",
       "        [5.1, 3.8, 1.9, 0.4],\n",
       "        [4.8, 3. , 1.4, 0.3],\n",
       "        [5.1, 3.8, 1.6, 0.2],\n",
       "        [4.6, 3.2, 1.4, 0.2],\n",
       "        [5.3, 3.7, 1.5, 0.2],\n",
       "        [5. , 3.3, 1.4, 0.2],\n",
       "        [7. , 3.2, 4.7, 1.4],\n",
       "        [6.4, 3.2, 4.5, 1.5],\n",
       "        [6.9, 3.1, 4.9, 1.5],\n",
       "        [5.5, 2.3, 4. , 1.3],\n",
       "        [6.5, 2.8, 4.6, 1.5],\n",
       "        [5.7, 2.8, 4.5, 1.3],\n",
       "        [6.3, 3.3, 4.7, 1.6],\n",
       "        [4.9, 2.4, 3.3, 1. ],\n",
       "        [6.6, 2.9, 4.6, 1.3],\n",
       "        [5.2, 2.7, 3.9, 1.4],\n",
       "        [5. , 2. , 3.5, 1. ],\n",
       "        [5.9, 3. , 4.2, 1.5],\n",
       "        [6. , 2.2, 4. , 1. ],\n",
       "        [6.1, 2.9, 4.7, 1.4],\n",
       "        [5.6, 2.9, 3.6, 1.3],\n",
       "        [6.7, 3.1, 4.4, 1.4],\n",
       "        [5.6, 3. , 4.5, 1.5],\n",
       "        [5.8, 2.7, 4.1, 1. ],\n",
       "        [6.2, 2.2, 4.5, 1.5],\n",
       "        [5.6, 2.5, 3.9, 1.1],\n",
       "        [5.9, 3.2, 4.8, 1.8],\n",
       "        [6.1, 2.8, 4. , 1.3],\n",
       "        [6.3, 2.5, 4.9, 1.5],\n",
       "        [6.1, 2.8, 4.7, 1.2],\n",
       "        [6.4, 2.9, 4.3, 1.3],\n",
       "        [6.6, 3. , 4.4, 1.4],\n",
       "        [6.8, 2.8, 4.8, 1.4],\n",
       "        [6.7, 3. , 5. , 1.7],\n",
       "        [6. , 2.9, 4.5, 1.5],\n",
       "        [5.7, 2.6, 3.5, 1. ],\n",
       "        [5.5, 2.4, 3.8, 1.1],\n",
       "        [5.5, 2.4, 3.7, 1. ],\n",
       "        [5.8, 2.7, 3.9, 1.2],\n",
       "        [6. , 2.7, 5.1, 1.6],\n",
       "        [5.4, 3. , 4.5, 1.5],\n",
       "        [6. , 3.4, 4.5, 1.6],\n",
       "        [6.7, 3.1, 4.7, 1.5],\n",
       "        [6.3, 2.3, 4.4, 1.3],\n",
       "        [5.6, 3. , 4.1, 1.3],\n",
       "        [5.5, 2.5, 4. , 1.3],\n",
       "        [5.5, 2.6, 4.4, 1.2],\n",
       "        [6.1, 3. , 4.6, 1.4],\n",
       "        [5.8, 2.6, 4. , 1.2],\n",
       "        [5. , 2.3, 3.3, 1. ],\n",
       "        [5.6, 2.7, 4.2, 1.3],\n",
       "        [5.7, 3. , 4.2, 1.2],\n",
       "        [5.7, 2.9, 4.2, 1.3],\n",
       "        [6.2, 2.9, 4.3, 1.3],\n",
       "        [5.1, 2.5, 3. , 1.1],\n",
       "        [5.7, 2.8, 4.1, 1.3],\n",
       "        [6.3, 3.3, 6. , 2.5],\n",
       "        [5.8, 2.7, 5.1, 1.9],\n",
       "        [7.1, 3. , 5.9, 2.1],\n",
       "        [6.3, 2.9, 5.6, 1.8],\n",
       "        [6.5, 3. , 5.8, 2.2],\n",
       "        [7.6, 3. , 6.6, 2.1],\n",
       "        [4.9, 2.5, 4.5, 1.7],\n",
       "        [7.3, 2.9, 6.3, 1.8],\n",
       "        [6.7, 2.5, 5.8, 1.8],\n",
       "        [7.2, 3.6, 6.1, 2.5],\n",
       "        [6.5, 3.2, 5.1, 2. ],\n",
       "        [6.4, 2.7, 5.3, 1.9],\n",
       "        [6.8, 3. , 5.5, 2.1],\n",
       "        [5.7, 2.5, 5. , 2. ],\n",
       "        [5.8, 2.8, 5.1, 2.4],\n",
       "        [6.4, 3.2, 5.3, 2.3],\n",
       "        [6.5, 3. , 5.5, 1.8],\n",
       "        [7.7, 3.8, 6.7, 2.2],\n",
       "        [7.7, 2.6, 6.9, 2.3],\n",
       "        [6. , 2.2, 5. , 1.5],\n",
       "        [6.9, 3.2, 5.7, 2.3],\n",
       "        [5.6, 2.8, 4.9, 2. ],\n",
       "        [7.7, 2.8, 6.7, 2. ],\n",
       "        [6.3, 2.7, 4.9, 1.8],\n",
       "        [6.7, 3.3, 5.7, 2.1],\n",
       "        [7.2, 3.2, 6. , 1.8],\n",
       "        [6.2, 2.8, 4.8, 1.8],\n",
       "        [6.1, 3. , 4.9, 1.8],\n",
       "        [6.4, 2.8, 5.6, 2.1],\n",
       "        [7.2, 3. , 5.8, 1.6],\n",
       "        [7.4, 2.8, 6.1, 1.9],\n",
       "        [7.9, 3.8, 6.4, 2. ],\n",
       "        [6.4, 2.8, 5.6, 2.2],\n",
       "        [6.3, 2.8, 5.1, 1.5],\n",
       "        [6.1, 2.6, 5.6, 1.4],\n",
       "        [7.7, 3. , 6.1, 2.3],\n",
       "        [6.3, 3.4, 5.6, 2.4],\n",
       "        [6.4, 3.1, 5.5, 1.8],\n",
       "        [6. , 3. , 4.8, 1.8],\n",
       "        [6.9, 3.1, 5.4, 2.1],\n",
       "        [6.7, 3.1, 5.6, 2.4],\n",
       "        [6.9, 3.1, 5.1, 2.3],\n",
       "        [5.8, 2.7, 5.1, 1.9],\n",
       "        [6.8, 3.2, 5.9, 2.3],\n",
       "        [6.7, 3.3, 5.7, 2.5],\n",
       "        [6.7, 3. , 5.2, 2.3],\n",
       "        [6.3, 2.5, 5. , 1.9],\n",
       "        [6.5, 3. , 5.2, 2. ],\n",
       "        [6.2, 3.4, 5.4, 2.3],\n",
       "        [5.9, 3. , 5.1, 1.8]]),\n",
       " 'target': array([0, 0, 0, 0, 0, 0, 0, 0, 0, 0, 0, 0, 0, 0, 0, 0, 0, 0, 0, 0, 0, 0,\n",
       "        0, 0, 0, 0, 0, 0, 0, 0, 0, 0, 0, 0, 0, 0, 0, 0, 0, 0, 0, 0, 0, 0,\n",
       "        0, 0, 0, 0, 0, 0, 1, 1, 1, 1, 1, 1, 1, 1, 1, 1, 1, 1, 1, 1, 1, 1,\n",
       "        1, 1, 1, 1, 1, 1, 1, 1, 1, 1, 1, 1, 1, 1, 1, 1, 1, 1, 1, 1, 1, 1,\n",
       "        1, 1, 1, 1, 1, 1, 1, 1, 1, 1, 1, 1, 2, 2, 2, 2, 2, 2, 2, 2, 2, 2,\n",
       "        2, 2, 2, 2, 2, 2, 2, 2, 2, 2, 2, 2, 2, 2, 2, 2, 2, 2, 2, 2, 2, 2,\n",
       "        2, 2, 2, 2, 2, 2, 2, 2, 2, 2, 2, 2, 2, 2, 2, 2, 2, 2]),\n",
       " 'frame': None,\n",
       " 'target_names': array(['setosa', 'versicolor', 'virginica'], dtype='<U10'),\n",
       " 'DESCR': '.. _iris_dataset:\\n\\nIris plants dataset\\n--------------------\\n\\n**Data Set Characteristics:**\\n\\n:Number of Instances: 150 (50 in each of three classes)\\n:Number of Attributes: 4 numeric, predictive attributes and the class\\n:Attribute Information:\\n    - sepal length in cm\\n    - sepal width in cm\\n    - petal length in cm\\n    - petal width in cm\\n    - class:\\n            - Iris-Setosa\\n            - Iris-Versicolour\\n            - Iris-Virginica\\n\\n:Summary Statistics:\\n\\n============== ==== ==== ======= ===== ====================\\n                Min  Max   Mean    SD   Class Correlation\\n============== ==== ==== ======= ===== ====================\\nsepal length:   4.3  7.9   5.84   0.83    0.7826\\nsepal width:    2.0  4.4   3.05   0.43   -0.4194\\npetal length:   1.0  6.9   3.76   1.76    0.9490  (high!)\\npetal width:    0.1  2.5   1.20   0.76    0.9565  (high!)\\n============== ==== ==== ======= ===== ====================\\n\\n:Missing Attribute Values: None\\n:Class Distribution: 33.3% for each of 3 classes.\\n:Creator: R.A. Fisher\\n:Donor: Michael Marshall (MARSHALL%PLU@io.arc.nasa.gov)\\n:Date: July, 1988\\n\\nThe famous Iris database, first used by Sir R.A. Fisher. The dataset is taken\\nfrom Fisher\\'s paper. Note that it\\'s the same as in R, but not as in the UCI\\nMachine Learning Repository, which has two wrong data points.\\n\\nThis is perhaps the best known database to be found in the\\npattern recognition literature.  Fisher\\'s paper is a classic in the field and\\nis referenced frequently to this day.  (See Duda & Hart, for example.)  The\\ndata set contains 3 classes of 50 instances each, where each class refers to a\\ntype of iris plant.  One class is linearly separable from the other 2; the\\nlatter are NOT linearly separable from each other.\\n\\n.. dropdown:: References\\n\\n  - Fisher, R.A. \"The use of multiple measurements in taxonomic problems\"\\n    Annual Eugenics, 7, Part II, 179-188 (1936); also in \"Contributions to\\n    Mathematical Statistics\" (John Wiley, NY, 1950).\\n  - Duda, R.O., & Hart, P.E. (1973) Pattern Classification and Scene Analysis.\\n    (Q327.D83) John Wiley & Sons.  ISBN 0-471-22361-1.  See page 218.\\n  - Dasarathy, B.V. (1980) \"Nosing Around the Neighborhood: A New System\\n    Structure and Classification Rule for Recognition in Partially Exposed\\n    Environments\".  IEEE Transactions on Pattern Analysis and Machine\\n    Intelligence, Vol. PAMI-2, No. 1, 67-71.\\n  - Gates, G.W. (1972) \"The Reduced Nearest Neighbor Rule\".  IEEE Transactions\\n    on Information Theory, May 1972, 431-433.\\n  - See also: 1988 MLC Proceedings, 54-64.  Cheeseman et al\"s AUTOCLASS II\\n    conceptual clustering system finds 3 classes in the data.\\n  - Many, many more ...\\n',\n",
       " 'feature_names': ['sepal length (cm)',\n",
       "  'sepal width (cm)',\n",
       "  'petal length (cm)',\n",
       "  'petal width (cm)'],\n",
       " 'filename': 'iris.csv',\n",
       " 'data_module': 'sklearn.datasets.data'}"
      ]
     },
     "execution_count": 499,
     "metadata": {},
     "output_type": "execute_result"
    }
   ],
   "source": [
    "iris = load_iris()\n",
    "iris"
   ]
  },
  {
   "cell_type": "code",
   "execution_count": 500,
   "metadata": {},
   "outputs": [
    {
     "data": {
      "text/html": [
       "<div>\n",
       "<style scoped>\n",
       "    .dataframe tbody tr th:only-of-type {\n",
       "        vertical-align: middle;\n",
       "    }\n",
       "\n",
       "    .dataframe tbody tr th {\n",
       "        vertical-align: top;\n",
       "    }\n",
       "\n",
       "    .dataframe thead th {\n",
       "        text-align: right;\n",
       "    }\n",
       "</style>\n",
       "<table border=\"1\" class=\"dataframe\">\n",
       "  <thead>\n",
       "    <tr style=\"text-align: right;\">\n",
       "      <th></th>\n",
       "      <th>sepal length (cm)</th>\n",
       "      <th>sepal width (cm)</th>\n",
       "      <th>petal length (cm)</th>\n",
       "      <th>petal width (cm)</th>\n",
       "      <th>target</th>\n",
       "    </tr>\n",
       "  </thead>\n",
       "  <tbody>\n",
       "    <tr>\n",
       "      <th>0</th>\n",
       "      <td>5.1</td>\n",
       "      <td>3.5</td>\n",
       "      <td>1.4</td>\n",
       "      <td>0.2</td>\n",
       "      <td>0</td>\n",
       "    </tr>\n",
       "    <tr>\n",
       "      <th>1</th>\n",
       "      <td>4.9</td>\n",
       "      <td>3.0</td>\n",
       "      <td>1.4</td>\n",
       "      <td>0.2</td>\n",
       "      <td>0</td>\n",
       "    </tr>\n",
       "    <tr>\n",
       "      <th>2</th>\n",
       "      <td>4.7</td>\n",
       "      <td>3.2</td>\n",
       "      <td>1.3</td>\n",
       "      <td>0.2</td>\n",
       "      <td>0</td>\n",
       "    </tr>\n",
       "    <tr>\n",
       "      <th>3</th>\n",
       "      <td>4.6</td>\n",
       "      <td>3.1</td>\n",
       "      <td>1.5</td>\n",
       "      <td>0.2</td>\n",
       "      <td>0</td>\n",
       "    </tr>\n",
       "    <tr>\n",
       "      <th>4</th>\n",
       "      <td>5.0</td>\n",
       "      <td>3.6</td>\n",
       "      <td>1.4</td>\n",
       "      <td>0.2</td>\n",
       "      <td>0</td>\n",
       "    </tr>\n",
       "    <tr>\n",
       "      <th>...</th>\n",
       "      <td>...</td>\n",
       "      <td>...</td>\n",
       "      <td>...</td>\n",
       "      <td>...</td>\n",
       "      <td>...</td>\n",
       "    </tr>\n",
       "    <tr>\n",
       "      <th>145</th>\n",
       "      <td>6.7</td>\n",
       "      <td>3.0</td>\n",
       "      <td>5.2</td>\n",
       "      <td>2.3</td>\n",
       "      <td>2</td>\n",
       "    </tr>\n",
       "    <tr>\n",
       "      <th>146</th>\n",
       "      <td>6.3</td>\n",
       "      <td>2.5</td>\n",
       "      <td>5.0</td>\n",
       "      <td>1.9</td>\n",
       "      <td>2</td>\n",
       "    </tr>\n",
       "    <tr>\n",
       "      <th>147</th>\n",
       "      <td>6.5</td>\n",
       "      <td>3.0</td>\n",
       "      <td>5.2</td>\n",
       "      <td>2.0</td>\n",
       "      <td>2</td>\n",
       "    </tr>\n",
       "    <tr>\n",
       "      <th>148</th>\n",
       "      <td>6.2</td>\n",
       "      <td>3.4</td>\n",
       "      <td>5.4</td>\n",
       "      <td>2.3</td>\n",
       "      <td>2</td>\n",
       "    </tr>\n",
       "    <tr>\n",
       "      <th>149</th>\n",
       "      <td>5.9</td>\n",
       "      <td>3.0</td>\n",
       "      <td>5.1</td>\n",
       "      <td>1.8</td>\n",
       "      <td>2</td>\n",
       "    </tr>\n",
       "  </tbody>\n",
       "</table>\n",
       "<p>150 rows × 5 columns</p>\n",
       "</div>"
      ],
      "text/plain": [
       "     sepal length (cm)  sepal width (cm)  petal length (cm)  petal width (cm)  \\\n",
       "0                  5.1               3.5                1.4               0.2   \n",
       "1                  4.9               3.0                1.4               0.2   \n",
       "2                  4.7               3.2                1.3               0.2   \n",
       "3                  4.6               3.1                1.5               0.2   \n",
       "4                  5.0               3.6                1.4               0.2   \n",
       "..                 ...               ...                ...               ...   \n",
       "145                6.7               3.0                5.2               2.3   \n",
       "146                6.3               2.5                5.0               1.9   \n",
       "147                6.5               3.0                5.2               2.0   \n",
       "148                6.2               3.4                5.4               2.3   \n",
       "149                5.9               3.0                5.1               1.8   \n",
       "\n",
       "     target  \n",
       "0         0  \n",
       "1         0  \n",
       "2         0  \n",
       "3         0  \n",
       "4         0  \n",
       "..      ...  \n",
       "145       2  \n",
       "146       2  \n",
       "147       2  \n",
       "148       2  \n",
       "149       2  \n",
       "\n",
       "[150 rows x 5 columns]"
      ]
     },
     "execution_count": 500,
     "metadata": {},
     "output_type": "execute_result"
    }
   ],
   "source": [
    "data_df = pd.DataFrame(iris.data,columns=iris.feature_names)\n",
    "data_df['target'] = iris.target\n",
    "\n",
    "data_df"
   ]
  },
  {
   "cell_type": "markdown",
   "metadata": {},
   "source": [
    "Filtraremos por ciertas columnas y mostraremos solo los que sean setosa y versicolor **(target 0 y 1)**"
   ]
  },
  {
   "cell_type": "code",
   "execution_count": 501,
   "metadata": {},
   "outputs": [
    {
     "data": {
      "text/html": [
       "<div>\n",
       "<style scoped>\n",
       "    .dataframe tbody tr th:only-of-type {\n",
       "        vertical-align: middle;\n",
       "    }\n",
       "\n",
       "    .dataframe tbody tr th {\n",
       "        vertical-align: top;\n",
       "    }\n",
       "\n",
       "    .dataframe thead th {\n",
       "        text-align: right;\n",
       "    }\n",
       "</style>\n",
       "<table border=\"1\" class=\"dataframe\">\n",
       "  <thead>\n",
       "    <tr style=\"text-align: right;\">\n",
       "      <th></th>\n",
       "      <th>sepal length (cm)</th>\n",
       "      <th>petal length (cm)</th>\n",
       "      <th>target</th>\n",
       "    </tr>\n",
       "  </thead>\n",
       "  <tbody>\n",
       "    <tr>\n",
       "      <th>0</th>\n",
       "      <td>5.1</td>\n",
       "      <td>1.4</td>\n",
       "      <td>0</td>\n",
       "    </tr>\n",
       "    <tr>\n",
       "      <th>1</th>\n",
       "      <td>4.9</td>\n",
       "      <td>1.4</td>\n",
       "      <td>0</td>\n",
       "    </tr>\n",
       "    <tr>\n",
       "      <th>2</th>\n",
       "      <td>4.7</td>\n",
       "      <td>1.3</td>\n",
       "      <td>0</td>\n",
       "    </tr>\n",
       "    <tr>\n",
       "      <th>3</th>\n",
       "      <td>4.6</td>\n",
       "      <td>1.5</td>\n",
       "      <td>0</td>\n",
       "    </tr>\n",
       "    <tr>\n",
       "      <th>4</th>\n",
       "      <td>5.0</td>\n",
       "      <td>1.4</td>\n",
       "      <td>0</td>\n",
       "    </tr>\n",
       "    <tr>\n",
       "      <th>...</th>\n",
       "      <td>...</td>\n",
       "      <td>...</td>\n",
       "      <td>...</td>\n",
       "    </tr>\n",
       "    <tr>\n",
       "      <th>95</th>\n",
       "      <td>5.7</td>\n",
       "      <td>4.2</td>\n",
       "      <td>1</td>\n",
       "    </tr>\n",
       "    <tr>\n",
       "      <th>96</th>\n",
       "      <td>5.7</td>\n",
       "      <td>4.2</td>\n",
       "      <td>1</td>\n",
       "    </tr>\n",
       "    <tr>\n",
       "      <th>97</th>\n",
       "      <td>6.2</td>\n",
       "      <td>4.3</td>\n",
       "      <td>1</td>\n",
       "    </tr>\n",
       "    <tr>\n",
       "      <th>98</th>\n",
       "      <td>5.1</td>\n",
       "      <td>3.0</td>\n",
       "      <td>1</td>\n",
       "    </tr>\n",
       "    <tr>\n",
       "      <th>99</th>\n",
       "      <td>5.7</td>\n",
       "      <td>4.1</td>\n",
       "      <td>1</td>\n",
       "    </tr>\n",
       "  </tbody>\n",
       "</table>\n",
       "<p>100 rows × 3 columns</p>\n",
       "</div>"
      ],
      "text/plain": [
       "    sepal length (cm)  petal length (cm)  target\n",
       "0                 5.1                1.4       0\n",
       "1                 4.9                1.4       0\n",
       "2                 4.7                1.3       0\n",
       "3                 4.6                1.5       0\n",
       "4                 5.0                1.4       0\n",
       "..                ...                ...     ...\n",
       "95                5.7                4.2       1\n",
       "96                5.7                4.2       1\n",
       "97                6.2                4.3       1\n",
       "98                5.1                3.0       1\n",
       "99                5.7                4.1       1\n",
       "\n",
       "[100 rows x 3 columns]"
      ]
     },
     "execution_count": 501,
     "metadata": {},
     "output_type": "execute_result"
    }
   ],
   "source": [
    "data_df = data_df[['sepal length (cm)','petal length (cm)','target']]\n",
    "data_df = data_df[data_df['target'].isin([0,1])]\n",
    "data_df"
   ]
  },
  {
   "cell_type": "code",
   "execution_count": 502,
   "metadata": {},
   "outputs": [
    {
     "data": {
      "image/png": "[encoded data removed]",
      "text/plain": [
       "<Figure size 640x480 with 1 Axes>"
      ]
     },
     "metadata": {},
     "output_type": "display_data"
    }
   ],
   "source": [
    "setosa_data,versicolor_data = [data_df[data_df['target'] == target] for target in (0,1)]\n",
    "\n",
    "def graf(s_data,v_data):\n",
    "    plt.figure()\n",
    "    plt.scatter(s_data['sepal length (cm)'], s_data['petal length (cm)'], label=\"setosa\", color='cyan', s=50)\n",
    "    plt.scatter(v_data['sepal length (cm)'],v_data['petal length (cm)'], label=\"versicolor\", color='magenta', s=50)\n",
    "\n",
    "    plt.title('Sepal Length (cm) vs Petal Length (cm)')\n",
    "    plt.xlabel('Sepal Length (cm)')\n",
    "    plt.ylabel('Petal Length (cm)')\n",
    "    plt.grid()\n",
    "    plt.legend()\n",
    "    \n",
    "graf(setosa_data,versicolor_data)\n"
   ]
  },
  {
   "cell_type": "markdown",
   "metadata": {},
   "source": [
    "### **Entrenamiento y prueba**"
   ]
  },
  {
   "cell_type": "code",
   "execution_count": 503,
   "metadata": {},
   "outputs": [],
   "source": [
    "X = data_df[['sepal length (cm)','petal length (cm)']].values\n",
    "y = data_df['target'].values\n",
    "\n",
    "X_train, X_test, y_train, y_test = train_test_split(X, y, test_size=0.2)"
   ]
  },
  {
   "cell_type": "markdown",
   "metadata": {},
   "source": [
    "Inicializar nuestro **Perceptron**"
   ]
  },
  {
   "cell_type": "code",
   "execution_count": 504,
   "metadata": {},
   "outputs": [
    {
     "name": "stdout",
     "output_type": "stream",
     "text": [
      "Epoch 0\n",
      "Input: [4.8 1.4], Label: 0 Error: -1\n",
      "Input: [6.3 4.9], Label: 1 Error: 1\n",
      "Input: [5.4 4.5], Label: 1 Error: 0\n",
      "Input: [5.5 3.7], Label: 1 Error: 0\n",
      "Input: [6.4 4.3], Label: 1 Error: 0\n",
      "Input: [5.6 4.1], Label: 1 Error: 0\n",
      "Input: [4.9 1.5], Label: 0 Error: -1\n",
      "Input: [6.  5.1], Label: 1 Error: 1\n",
      "Input: [6.7 4.7], Label: 1 Error: 0\n",
      "Input: [5.9 4.8], Label: 1 Error: 0\n",
      "Input: [5.7 3.5], Label: 1 Error: 0\n",
      "Input: [5.1 1.5], Label: 0 Error: -1\n",
      "Input: [4.9 1.4], Label: 0 Error: 0\n",
      "Input: [5.1 1.6], Label: 0 Error: 0\n",
      "Input: [6. 4.], Label: 1 Error: 0\n",
      "Input: [5.7 4.2], Label: 1 Error: 0\n",
      "Input: [5.8 1.2], Label: 0 Error: 0\n",
      "Input: [5.6 3.6], Label: 1 Error: 0\n",
      "Input: [5.5 3.8], Label: 1 Error: 0\n",
      "Input: [6.1 4.6], Label: 1 Error: 0\n",
      "Input: [5.4 1.7], Label: 0 Error: 0\n",
      "Input: [4.8 1.4], Label: 0 Error: 0\n",
      "Input: [5.1 1.5], Label: 0 Error: 0\n",
      "Input: [6.  4.5], Label: 1 Error: 0\n",
      "Input: [5.4 1.7], Label: 0 Error: 0\n",
      "Input: [5.4 1.3], Label: 0 Error: 0\n",
      "Input: [5.5 1.4], Label: 0 Error: 0\n",
      "Input: [5.2 3.9], Label: 1 Error: 0\n",
      "Input: [4.6 1.4], Label: 0 Error: 0\n",
      "Input: [5.6 3.9], Label: 1 Error: 0\n",
      "Input: [5.  1.6], Label: 0 Error: 0\n",
      "Input: [5.  1.4], Label: 0 Error: 0\n",
      "Input: [5.  1.4], Label: 0 Error: 0\n",
      "Input: [5.1 3. ], Label: 1 Error: 0\n",
      "Input: [5.  1.6], Label: 0 Error: 0\n",
      "Input: [4.4 1.3], Label: 0 Error: 0\n",
      "Input: [6.6 4.6], Label: 1 Error: 0\n",
      "Input: [6.5 4.6], Label: 1 Error: 0\n",
      "Input: [6.6 4.4], Label: 1 Error: 0\n",
      "Input: [4.8 1.6], Label: 0 Error: 0\n",
      "Input: [5.7 1.5], Label: 0 Error: 0\n",
      "Input: [6.  4.5], Label: 1 Error: 0\n",
      "Input: [5.7 4.1], Label: 1 Error: 0\n",
      "Input: [4.9 1.4], Label: 0 Error: 0\n",
      "Input: [5.5 4. ], Label: 1 Error: 0\n",
      "Input: [6.3 4.4], Label: 1 Error: 0\n",
      "Input: [4.9 3.3], Label: 1 Error: 0\n",
      "Input: [5.5 1.3], Label: 0 Error: 0\n",
      "Input: [5.5 4.4], Label: 1 Error: 0\n",
      "Input: [6.1 4.7], Label: 1 Error: 0\n",
      "Input: [4.5 1.3], Label: 0 Error: 0\n",
      "Input: [4.4 1.3], Label: 0 Error: 0\n",
      "Input: [4.3 1.1], Label: 0 Error: 0\n",
      "Input: [5.  1.3], Label: 0 Error: 0\n",
      "Input: [5.1 1.4], Label: 0 Error: 0\n",
      "Input: [5.4 1.5], Label: 0 Error: 0\n",
      "Input: [5.1 1.9], Label: 0 Error: -1\n",
      "Input: [4.6 1.5], Label: 0 Error: 0\n",
      "Input: [5.6 4.5], Label: 1 Error: 1\n",
      "Input: [5.  3.3], Label: 1 Error: 0\n",
      "Input: [5.8 4.1], Label: 1 Error: 0\n",
      "Input: [4.6 1.4], Label: 0 Error: -1\n",
      "Input: [4.7 1.3], Label: 0 Error: 0\n",
      "Input: [5.2 1.4], Label: 0 Error: 0\n",
      "Input: [5.9 4.2], Label: 1 Error: 1\n",
      "Input: [4.4 1.4], Label: 0 Error: -1\n",
      "Input: [5.  3.5], Label: 1 Error: 0\n",
      "Input: [6.1 4. ], Label: 1 Error: 0\n",
      "Input: [5.7 4.2], Label: 1 Error: 0\n",
      "Input: [4.8 1.9], Label: 0 Error: 0\n",
      "Input: [5.5 4. ], Label: 1 Error: 0\n",
      "Input: [4.9 1.5], Label: 0 Error: 0\n",
      "Input: [7.  4.7], Label: 1 Error: 0\n",
      "Input: [5.  1.5], Label: 0 Error: 0\n",
      "Input: [4.6 1. ], Label: 0 Error: 0\n",
      "Input: [4.8 1.6], Label: 0 Error: 0\n",
      "Input: [6.1 4.7], Label: 1 Error: 0\n",
      "Input: [4.7 1.6], Label: 0 Error: 0\n",
      "Input: [5.4 1.5], Label: 0 Error: 0\n",
      "Input: [5.1 1.4], Label: 0 Error: 0\n",
      "Average error: 0.125\n",
      "Epoch 1\n",
      "Input: [4.8 1.4], Label: 0 Error: 0\n",
      "Input: [6.3 4.9], Label: 1 Error: 0\n",
      "Input: [5.4 4.5], Label: 1 Error: 0\n",
      "Input: [5.5 3.7], Label: 1 Error: 0\n",
      "Input: [6.4 4.3], Label: 1 Error: 0\n",
      "Input: [5.6 4.1], Label: 1 Error: 0\n",
      "Input: [4.9 1.5], Label: 0 Error: 0\n",
      "Input: [6.  5.1], Label: 1 Error: 0\n",
      "Input: [6.7 4.7], Label: 1 Error: 0\n",
      "Input: [5.9 4.8], Label: 1 Error: 0\n",
      "Input: [5.7 3.5], Label: 1 Error: 0\n",
      "Input: [5.1 1.5], Label: 0 Error: 0\n",
      "Input: [4.9 1.4], Label: 0 Error: 0\n",
      "Input: [5.1 1.6], Label: 0 Error: 0\n",
      "Input: [6. 4.], Label: 1 Error: 0\n",
      "Input: [5.7 4.2], Label: 1 Error: 0\n",
      "Input: [5.8 1.2], Label: 0 Error: 0\n",
      "Input: [5.6 3.6], Label: 1 Error: 0\n",
      "Input: [5.5 3.8], Label: 1 Error: 0\n",
      "Input: [6.1 4.6], Label: 1 Error: 0\n",
      "Input: [5.4 1.7], Label: 0 Error: 0\n",
      "Input: [4.8 1.4], Label: 0 Error: 0\n",
      "Input: [5.1 1.5], Label: 0 Error: 0\n",
      "Input: [6.  4.5], Label: 1 Error: 0\n",
      "Input: [5.4 1.7], Label: 0 Error: 0\n",
      "Input: [5.4 1.3], Label: 0 Error: 0\n",
      "Input: [5.5 1.4], Label: 0 Error: 0\n",
      "Input: [5.2 3.9], Label: 1 Error: 0\n",
      "Input: [4.6 1.4], Label: 0 Error: 0\n",
      "Input: [5.6 3.9], Label: 1 Error: 0\n",
      "Input: [5.  1.6], Label: 0 Error: 0\n",
      "Input: [5.  1.4], Label: 0 Error: 0\n",
      "Input: [5.  1.4], Label: 0 Error: 0\n",
      "Input: [5.1 3. ], Label: 1 Error: 0\n",
      "Input: [5.  1.6], Label: 0 Error: 0\n",
      "Input: [4.4 1.3], Label: 0 Error: 0\n",
      "Input: [6.6 4.6], Label: 1 Error: 0\n",
      "Input: [6.5 4.6], Label: 1 Error: 0\n",
      "Input: [6.6 4.4], Label: 1 Error: 0\n",
      "Input: [4.8 1.6], Label: 0 Error: 0\n",
      "Input: [5.7 1.5], Label: 0 Error: 0\n",
      "Input: [6.  4.5], Label: 1 Error: 0\n",
      "Input: [5.7 4.1], Label: 1 Error: 0\n",
      "Input: [4.9 1.4], Label: 0 Error: 0\n",
      "Input: [5.5 4. ], Label: 1 Error: 0\n",
      "Input: [6.3 4.4], Label: 1 Error: 0\n",
      "Input: [4.9 3.3], Label: 1 Error: 0\n",
      "Input: [5.5 1.3], Label: 0 Error: 0\n",
      "Input: [5.5 4.4], Label: 1 Error: 0\n",
      "Input: [6.1 4.7], Label: 1 Error: 0\n",
      "Input: [4.5 1.3], Label: 0 Error: 0\n",
      "Input: [4.4 1.3], Label: 0 Error: 0\n",
      "Input: [4.3 1.1], Label: 0 Error: 0\n",
      "Input: [5.  1.3], Label: 0 Error: 0\n",
      "Input: [5.1 1.4], Label: 0 Error: 0\n",
      "Input: [5.4 1.5], Label: 0 Error: 0\n",
      "Input: [5.1 1.9], Label: 0 Error: 0\n",
      "Input: [4.6 1.5], Label: 0 Error: 0\n",
      "Input: [5.6 4.5], Label: 1 Error: 0\n",
      "Input: [5.  3.3], Label: 1 Error: 0\n",
      "Input: [5.8 4.1], Label: 1 Error: 0\n",
      "Input: [4.6 1.4], Label: 0 Error: 0\n",
      "Input: [4.7 1.3], Label: 0 Error: 0\n",
      "Input: [5.2 1.4], Label: 0 Error: 0\n",
      "Input: [5.9 4.2], Label: 1 Error: 0\n",
      "Input: [4.4 1.4], Label: 0 Error: 0\n",
      "Input: [5.  3.5], Label: 1 Error: 0\n",
      "Input: [6.1 4. ], Label: 1 Error: 0\n",
      "Input: [5.7 4.2], Label: 1 Error: 0\n",
      "Input: [4.8 1.9], Label: 0 Error: 0\n",
      "Input: [5.5 4. ], Label: 1 Error: 0\n",
      "Input: [4.9 1.5], Label: 0 Error: 0\n",
      "Input: [7.  4.7], Label: 1 Error: 0\n",
      "Input: [5.  1.5], Label: 0 Error: 0\n",
      "Input: [4.6 1. ], Label: 0 Error: 0\n",
      "Input: [4.8 1.6], Label: 0 Error: 0\n",
      "Input: [6.1 4.7], Label: 1 Error: 0\n",
      "Input: [4.7 1.6], Label: 0 Error: 0\n",
      "Input: [5.4 1.5], Label: 0 Error: 0\n",
      "Input: [5.1 1.4], Label: 0 Error: 0\n",
      "Average error: 0.0\n",
      "Pesos ajustados: [-4.39126799  9.58485652]\n",
      "Bias ajustado: -1.327547840400547\n"
     ]
    }
   ],
   "source": [
    "# Ajustar parametros\n",
    "Perceptron.learning_rate = 0.9\n",
    "Perceptron.epochs = 100\n",
    "\n",
    "w_iris, b_iris = Perceptron.train(X_train,y_train)\n",
    "print(f\"Pesos ajustados: {w_iris}\")\n",
    "print(f\"Bias ajustado: {b_iris}\")"
   ]
  },
  {
   "cell_type": "markdown",
   "metadata": {},
   "source": [
    "##### **Predicciones**"
   ]
  },
  {
   "cell_type": "code",
   "execution_count": null,
   "metadata": {},
   "outputs": [
    {
     "name": "stdout",
     "output_type": "stream",
     "text": [
      "Predicción: [0 1 0 1 0 0 0 1 1 1 1 0 1 1 1 1 1 0 0 1]\n",
      "Prueba    : [0 1 0 1 0 0 0 1 1 1 1 0 1 1 1 1 1 0 0 1]\n"
     ]
    }
   ],
   "source": [
    "y_pred = Perceptron.predict(X_test,w_iris,b_iris)\n",
    "print(f'Predicción: {y_pred}')\n",
    "print(f'Prueba    : {y_test}') "
   ]
  },
  {
   "cell_type": "code",
   "execution_count": 506,
   "metadata": {},
   "outputs": [
    {
     "name": "stdout",
     "output_type": "stream",
     "text": [
      "[0]\n"
     ]
    }
   ],
   "source": [
    "print(Perceptron.predict(np.array([4.9,1.4]).reshape(1, -1), w_iris,b_iris)) # Indice 1 del DataFrame"
   ]
  },
  {
   "cell_type": "code",
   "execution_count": 507,
   "metadata": {},
   "outputs": [
    {
     "name": "stdout",
     "output_type": "stream",
     "text": [
      "Exactitud del perceptron: 1.0\n"
     ]
    }
   ],
   "source": [
    "accuracy = Perceptron.accuracy_score(y_pred,y_test)\n",
    "print(f\"Exactitud del perceptron: {accuracy}\")"
   ]
  },
  {
   "cell_type": "code",
   "execution_count": 508,
   "metadata": {},
   "outputs": [
    {
     "data": {
      "image/png": "[encoded data removed]",
      "text/plain": [
       "<Figure size 640x480 with 1 Axes>"
      ]
     },
     "metadata": {},
     "output_type": "display_data"
    }
   ],
   "source": [
    "graf(setosa_data,versicolor_data)\n",
    "x_values = np.linspace(4,7.5,100) # (Inicio, fin, número de puntos)\n",
    "y_values = (-w_iris[0] / w_iris[1]) * x_values - b_iris / w_iris[1]\n",
    "plt.plot(x_values, y_values, 'r', label='Separación lineal')\n",
    "plt.legend()\n",
    "plt.show()"
   ]
  }
 ],
 "metadata": {
  "kernelspec": {
   "display_name": "Python 3",
   "language": "python",
   "name": "python3"
  },
  "language_info": {
   "codemirror_mode": {
    "name": "ipython",
    "version": 3
   },
   "file_extension": ".py",
   "mimetype": "text/x-python",
   "name": "python",
   "nbconvert_exporter": "python",
   "pygments_lexer": "ipython3",
   "version": "3.13.1"
  }
 },
 "nbformat": 4,
 "nbformat_minor": 2
}
