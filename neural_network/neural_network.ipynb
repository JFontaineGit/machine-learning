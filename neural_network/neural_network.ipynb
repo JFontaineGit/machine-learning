{
 "cells": [
  {
   "cell_type": "code",
   "execution_count": 2,
   "metadata": {},
   "outputs": [],
   "source": [
    "import numpy as np\n",
    "import matplotlib.pyplot as plt"
   ]
  },
  {
   "cell_type": "code",
   "execution_count": 3,
   "metadata": {},
   "outputs": [],
   "source": [
    "# Red Neuronal Multicapa (evitamos tener que definir cada capa manualmente, más práctico)\n",
    "\n",
    "class MultiLayerNeuralNetwork:\n",
    "    def __init__(self, input_size, hidden_sizes, output_size, learning_rate=1.9):\n",
    "        self.layers = []\n",
    "        self.learning_rate = learning_rate\n",
    "\n",
    "        # Capas ocultas\n",
    "        previous_size = input_size\n",
    "        for size in hidden_sizes:\n",
    "            self.layers.append({\n",
    "                'W': np.random.randn(previous_size, size),\n",
    "                'b': np.zeros((1, size)),\n",
    "            })\n",
    "            previous_size = size\n",
    "\n",
    "        # Capas de salida\n",
    "        self.layers.append({\n",
    "            'W': np.random.randn(previous_size, output_size),\n",
    "            'b': np.zeros((1, output_size)),\n",
    "        })\n",
    "    \n",
    "    def sigmoid(self, x):\n",
    "        return 1 / (1 + np.exp(-x))\n",
    "\n",
    "    def sigmoid_derivative(self, x):\n",
    "        return x * (1 - x)\n",
    "    \n",
    "    def forward_propagation(self, x):\n",
    "        a = x\n",
    "        activations = [a]  # Activaciones de cada capa\n",
    "\n",
    "        for layer in self.layers:\n",
    "            z = np.dot(a, layer['W']) + layer['b']\n",
    "            a = self.sigmoid(z)\n",
    "            activations.append(a)\n",
    "\n",
    "        return activations\n",
    "\n",
    "    def backward_propagation(self, x, y, activations):\n",
    "        m = x.shape[0]  # Número de ejemplos (muestras)\n",
    "        error = activations[-1] - y\n",
    "\n",
    "        # Propagación hacia atrás\n",
    "        for i in reversed(range(len(self.layers))):\n",
    "            layer = self.layers[i]\n",
    "            a_prev = activations[i]\n",
    "            dz = error * self.sigmoid_derivative(activations[i + 1])\n",
    "            dw = np.dot(a_prev.T, dz) / m\n",
    "            db = np.sum(dz, axis=0, keepdims=True) / m\n",
    "\n",
    "            # Actualización de pesos y sesgos\n",
    "            layer['W'] -= self.learning_rate * dw\n",
    "            layer['b'] -= self.learning_rate * db\n",
    "\n",
    "            # Propagar el error hacia la capa anterior\n",
    "            error = np.dot(dz, layer['W'].T)\n",
    "    \n",
    "    def train(self, x, y, epochs=10000):\n",
    "        for epoch in range(epochs):\n",
    "            activations = self.forward_propagation(x)\n",
    "            self.backward_propagation(x, y, activations)\n",
    "            if epoch % 1000 == 0:\n",
    "                loss = np.mean(np.square(activations[-1] - y))\n",
    "                print(f\"Epoch {epoch} - Loss: {loss}\")\n",
    "    \n",
    "    def predict(self, x):\n",
    "        activations = self.forward_propagation(x)\n",
    "        return np.round(activations[-1]).astype(int)"
   ]
  },
  {
   "cell_type": "code",
   "execution_count": 4,
   "metadata": {},
   "outputs": [
    {
     "name": "stdout",
     "output_type": "stream",
     "text": [
      "Epoch 0 - Loss: 0.2814281308432009\n",
      "Epoch 1000 - Loss: 0.15278686118585547\n",
      "Epoch 2000 - Loss: 0.001221744555635871\n",
      "Epoch 3000 - Loss: 0.00047894750160339545\n",
      "Epoch 4000 - Loss: 0.000287781581465104\n",
      "Epoch 5000 - Loss: 0.00020302991863717582\n",
      "Epoch 6000 - Loss: 0.00015581978120866456\n",
      "Epoch 7000 - Loss: 0.00012594081489668594\n",
      "Epoch 8000 - Loss: 0.00010541708229891373\n",
      "Epoch 9000 - Loss: 9.049167820466631e-05\n",
      "[[0]\n",
      " [1]\n",
      " [1]\n",
      " [0]]\n"
     ]
    }
   ],
   "source": [
    "inputs = np.array([\n",
    "    [0,0],\n",
    "    [0,1],\n",
    "    [1,0],\n",
    "    [1,1]\n",
    "])\n",
    "\n",
    "expected_output = np.array([0, 1, 1, 0]).reshape(-1, 1) # [0,1,1,0] --> [[0][1][1][0]]\n",
    "\n",
    "nn = MultiLayerNeuralNetwork(input_size=2, hidden_sizes=[2,2], output_size=1)\n",
    "nn.train(inputs,expected_output,epochs=10000)\n",
    "\n",
    "predictions = nn.predict(inputs)\n",
    "print(predictions)"
   ]
  },
  {
   "cell_type": "markdown",
   "metadata": {},
   "source": [
    "Ajuste la tasa de aprendizaje a 0.9 (learning_rate) para conseguir el menor margen de error."
   ]
  },
  {
   "cell_type": "code",
   "execution_count": 5,
   "metadata": {},
   "outputs": [
    {
     "name": "stdout",
     "output_type": "stream",
     "text": [
      "[[0 0]\n",
      " [0 1]\n",
      " [1 0]\n",
      " [1 1]]\n"
     ]
    },
    {
     "data": {
      "image/png": "[encoded data removed]",
      "text/plain": [
       "<Figure size 640x480 with 1 Axes>"
      ]
     },
     "metadata": {},
     "output_type": "display_data"
    }
   ],
   "source": [
    "# Función para graficar la frontera de decisión\n",
    "def plot_decision(model, X, y, h=0.02):\n",
    "    # Generamos una malla de puntos\n",
    "    x_min, x_max = X[:, 0].min() - 1, X[:, 0].max() + 1\n",
    "    y_min, y_max = X[:, 1].min() - 1, X[:, 1].max() + 1\n",
    "    xx, yy = np.meshgrid(np.arange(x_min, x_max, h),\n",
    "                         np.arange(y_min, y_max, h))\n",
    "    \n",
    "    Z = model.predict(np.c_[xx.ravel(), yy.ravel()])\n",
    "    Z = Z.reshape(xx.shape)\n",
    "    \n",
    "    print(X)\n",
    "    \n",
    "    plt.contourf(xx, yy, Z, alpha=0.8, cmap=plt.cm.coolwarm)\n",
    "    plt.scatter(X[:, 0], X[:, 1], c=y, edgecolors='k', marker='o',label=\"Datos de entrada\", s=100, cmap=plt.cm.coolwarm)\n",
    "    plt.xlabel(\"x1\")\n",
    "    plt.ylabel(\"x2\")\n",
    "\n",
    "# Graficar\n",
    "plot_decision(nn, inputs, expected_output)\n",
    "plt.title(\"Compuerta lógica XOR\")\n",
    "plt.legend()\n",
    "plt.show()"
   ]
  }
 ],
 "metadata": {
  "kernelspec": {
   "display_name": "Python 3",
   "language": "python",
   "name": "python3"
  },
  "language_info": {
   "codemirror_mode": {
    "name": "ipython",
    "version": 3
   },
   "file_extension": ".py",
   "mimetype": "text/x-python",
   "name": "python",
   "nbconvert_exporter": "python",
   "pygments_lexer": "ipython3",
   "version": "3.13.1"
  }
 },
 "nbformat": 4,
 "nbformat_minor": 2
}
